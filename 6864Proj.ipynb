{
  "nbformat": 4,
  "nbformat_minor": 0,
  "metadata": {
    "colab": {
      "name": "6864Proj.ipynb",
      "provenance": [],
      "collapsed_sections": [
        "obLpwjWQ3mD7",
        "iIYu4v0i3qjX",
        "f1Quz4lE36lx"
      ],
      "toc_visible": true
    },
    "kernelspec": {
      "name": "python3",
      "display_name": "Python 3"
    },
    "language_info": {
      "name": "python"
    },
    "widgets": {
      "application/vnd.jupyter.widget-state+json": {
        "c3fecc2817e24038bb2b7908e74c9c07": {
          "model_module": "@jupyter-widgets/controls",
          "model_name": "HBoxModel",
          "state": {
            "_view_name": "HBoxView",
            "_dom_classes": [],
            "_model_name": "HBoxModel",
            "_view_module": "@jupyter-widgets/controls",
            "_model_module_version": "1.5.0",
            "_view_count": null,
            "_view_module_version": "1.5.0",
            "box_style": "",
            "layout": "IPY_MODEL_66f7b2dcf4944123a5a24e3408053cbe",
            "_model_module": "@jupyter-widgets/controls",
            "children": [
              "IPY_MODEL_933d4688ade744edb712e5f012a9b36c",
              "IPY_MODEL_2b966ac716fb4ee584e31262c7050607"
            ]
          }
        },
        "66f7b2dcf4944123a5a24e3408053cbe": {
          "model_module": "@jupyter-widgets/base",
          "model_name": "LayoutModel",
          "state": {
            "_view_name": "LayoutView",
            "grid_template_rows": null,
            "right": null,
            "justify_content": null,
            "_view_module": "@jupyter-widgets/base",
            "overflow": null,
            "_model_module_version": "1.2.0",
            "_view_count": null,
            "flex_flow": null,
            "width": null,
            "min_width": null,
            "border": null,
            "align_items": null,
            "bottom": null,
            "_model_module": "@jupyter-widgets/base",
            "top": null,
            "grid_column": null,
            "overflow_y": null,
            "overflow_x": null,
            "grid_auto_flow": null,
            "grid_area": null,
            "grid_template_columns": null,
            "flex": null,
            "_model_name": "LayoutModel",
            "justify_items": null,
            "grid_row": null,
            "max_height": null,
            "align_content": null,
            "visibility": null,
            "align_self": null,
            "height": null,
            "min_height": null,
            "padding": null,
            "grid_auto_rows": null,
            "grid_gap": null,
            "max_width": null,
            "order": null,
            "_view_module_version": "1.2.0",
            "grid_template_areas": null,
            "object_position": null,
            "object_fit": null,
            "grid_auto_columns": null,
            "margin": null,
            "display": null,
            "left": null
          }
        },
        "933d4688ade744edb712e5f012a9b36c": {
          "model_module": "@jupyter-widgets/controls",
          "model_name": "FloatProgressModel",
          "state": {
            "_view_name": "ProgressView",
            "style": "IPY_MODEL_861c761ff638411bb84c60b03bc613ce",
            "_dom_classes": [],
            "description": "100%",
            "_model_name": "FloatProgressModel",
            "bar_style": "success",
            "max": 2,
            "_view_module": "@jupyter-widgets/controls",
            "_model_module_version": "1.5.0",
            "value": 2,
            "_view_count": null,
            "_view_module_version": "1.5.0",
            "orientation": "horizontal",
            "min": 0,
            "description_tooltip": null,
            "_model_module": "@jupyter-widgets/controls",
            "layout": "IPY_MODEL_8eab6efa756d4b098559f695d6ffbf26"
          }
        },
        "2b966ac716fb4ee584e31262c7050607": {
          "model_module": "@jupyter-widgets/controls",
          "model_name": "HTMLModel",
          "state": {
            "_view_name": "HTMLView",
            "style": "IPY_MODEL_2ef1dd5990d942a889772d126da7013a",
            "_dom_classes": [],
            "description": "",
            "_model_name": "HTMLModel",
            "placeholder": "​",
            "_view_module": "@jupyter-widgets/controls",
            "_model_module_version": "1.5.0",
            "value": " 2/2 [09:30&lt;00:00, 285.40s/it]",
            "_view_count": null,
            "_view_module_version": "1.5.0",
            "description_tooltip": null,
            "_model_module": "@jupyter-widgets/controls",
            "layout": "IPY_MODEL_50c035e0243b4fe68ba452ad5eadc012"
          }
        },
        "861c761ff638411bb84c60b03bc613ce": {
          "model_module": "@jupyter-widgets/controls",
          "model_name": "ProgressStyleModel",
          "state": {
            "_view_name": "StyleView",
            "_model_name": "ProgressStyleModel",
            "description_width": "initial",
            "_view_module": "@jupyter-widgets/base",
            "_model_module_version": "1.5.0",
            "_view_count": null,
            "_view_module_version": "1.2.0",
            "bar_color": null,
            "_model_module": "@jupyter-widgets/controls"
          }
        },
        "8eab6efa756d4b098559f695d6ffbf26": {
          "model_module": "@jupyter-widgets/base",
          "model_name": "LayoutModel",
          "state": {
            "_view_name": "LayoutView",
            "grid_template_rows": null,
            "right": null,
            "justify_content": null,
            "_view_module": "@jupyter-widgets/base",
            "overflow": null,
            "_model_module_version": "1.2.0",
            "_view_count": null,
            "flex_flow": null,
            "width": null,
            "min_width": null,
            "border": null,
            "align_items": null,
            "bottom": null,
            "_model_module": "@jupyter-widgets/base",
            "top": null,
            "grid_column": null,
            "overflow_y": null,
            "overflow_x": null,
            "grid_auto_flow": null,
            "grid_area": null,
            "grid_template_columns": null,
            "flex": null,
            "_model_name": "LayoutModel",
            "justify_items": null,
            "grid_row": null,
            "max_height": null,
            "align_content": null,
            "visibility": null,
            "align_self": null,
            "height": null,
            "min_height": null,
            "padding": null,
            "grid_auto_rows": null,
            "grid_gap": null,
            "max_width": null,
            "order": null,
            "_view_module_version": "1.2.0",
            "grid_template_areas": null,
            "object_position": null,
            "object_fit": null,
            "grid_auto_columns": null,
            "margin": null,
            "display": null,
            "left": null
          }
        },
        "2ef1dd5990d942a889772d126da7013a": {
          "model_module": "@jupyter-widgets/controls",
          "model_name": "DescriptionStyleModel",
          "state": {
            "_view_name": "StyleView",
            "_model_name": "DescriptionStyleModel",
            "description_width": "",
            "_view_module": "@jupyter-widgets/base",
            "_model_module_version": "1.5.0",
            "_view_count": null,
            "_view_module_version": "1.2.0",
            "_model_module": "@jupyter-widgets/controls"
          }
        },
        "50c035e0243b4fe68ba452ad5eadc012": {
          "model_module": "@jupyter-widgets/base",
          "model_name": "LayoutModel",
          "state": {
            "_view_name": "LayoutView",
            "grid_template_rows": null,
            "right": null,
            "justify_content": null,
            "_view_module": "@jupyter-widgets/base",
            "overflow": null,
            "_model_module_version": "1.2.0",
            "_view_count": null,
            "flex_flow": null,
            "width": null,
            "min_width": null,
            "border": null,
            "align_items": null,
            "bottom": null,
            "_model_module": "@jupyter-widgets/base",
            "top": null,
            "grid_column": null,
            "overflow_y": null,
            "overflow_x": null,
            "grid_auto_flow": null,
            "grid_area": null,
            "grid_template_columns": null,
            "flex": null,
            "_model_name": "LayoutModel",
            "justify_items": null,
            "grid_row": null,
            "max_height": null,
            "align_content": null,
            "visibility": null,
            "align_self": null,
            "height": null,
            "min_height": null,
            "padding": null,
            "grid_auto_rows": null,
            "grid_gap": null,
            "max_width": null,
            "order": null,
            "_view_module_version": "1.2.0",
            "grid_template_areas": null,
            "object_position": null,
            "object_fit": null,
            "grid_auto_columns": null,
            "margin": null,
            "display": null,
            "left": null
          }
        },
        "cea24cbf3c224bf08a1577b5c8be09a2": {
          "model_module": "@jupyter-widgets/controls",
          "model_name": "HBoxModel",
          "state": {
            "_view_name": "HBoxView",
            "_dom_classes": [],
            "_model_name": "HBoxModel",
            "_view_module": "@jupyter-widgets/controls",
            "_model_module_version": "1.5.0",
            "_view_count": null,
            "_view_module_version": "1.5.0",
            "box_style": "",
            "layout": "IPY_MODEL_62f33fb1564f429b86f122d902a5b255",
            "_model_module": "@jupyter-widgets/controls",
            "children": [
              "IPY_MODEL_5d144f96490c4b1fa89807e461144573",
              "IPY_MODEL_3822dfd11411428ea90689a56f6ab157"
            ]
          }
        },
        "62f33fb1564f429b86f122d902a5b255": {
          "model_module": "@jupyter-widgets/base",
          "model_name": "LayoutModel",
          "state": {
            "_view_name": "LayoutView",
            "grid_template_rows": null,
            "right": null,
            "justify_content": null,
            "_view_module": "@jupyter-widgets/base",
            "overflow": null,
            "_model_module_version": "1.2.0",
            "_view_count": null,
            "flex_flow": null,
            "width": null,
            "min_width": null,
            "border": null,
            "align_items": null,
            "bottom": null,
            "_model_module": "@jupyter-widgets/base",
            "top": null,
            "grid_column": null,
            "overflow_y": null,
            "overflow_x": null,
            "grid_auto_flow": null,
            "grid_area": null,
            "grid_template_columns": null,
            "flex": null,
            "_model_name": "LayoutModel",
            "justify_items": null,
            "grid_row": null,
            "max_height": null,
            "align_content": null,
            "visibility": null,
            "align_self": null,
            "height": null,
            "min_height": null,
            "padding": null,
            "grid_auto_rows": null,
            "grid_gap": null,
            "max_width": null,
            "order": null,
            "_view_module_version": "1.2.0",
            "grid_template_areas": null,
            "object_position": null,
            "object_fit": null,
            "grid_auto_columns": null,
            "margin": null,
            "display": null,
            "left": null
          }
        },
        "5d144f96490c4b1fa89807e461144573": {
          "model_module": "@jupyter-widgets/controls",
          "model_name": "FloatProgressModel",
          "state": {
            "_view_name": "ProgressView",
            "style": "IPY_MODEL_24dc2486b0e643278ce09860d283a2d8",
            "_dom_classes": [],
            "description": "100%",
            "_model_name": "FloatProgressModel",
            "bar_style": "success",
            "max": 312,
            "_view_module": "@jupyter-widgets/controls",
            "_model_module_version": "1.5.0",
            "value": 312,
            "_view_count": null,
            "_view_module_version": "1.5.0",
            "orientation": "horizontal",
            "min": 0,
            "description_tooltip": null,
            "_model_module": "@jupyter-widgets/controls",
            "layout": "IPY_MODEL_cb3cb2afbe84497da567988a3e8df0db"
          }
        },
        "3822dfd11411428ea90689a56f6ab157": {
          "model_module": "@jupyter-widgets/controls",
          "model_name": "HTMLModel",
          "state": {
            "_view_name": "HTMLView",
            "style": "IPY_MODEL_c3625786a73b4fe28e654ad814d1f20f",
            "_dom_classes": [],
            "description": "",
            "_model_name": "HTMLModel",
            "placeholder": "​",
            "_view_module": "@jupyter-widgets/controls",
            "_model_module_version": "1.5.0",
            "value": " 312/312 [09:30&lt;00:00,  1.83s/it]",
            "_view_count": null,
            "_view_module_version": "1.5.0",
            "description_tooltip": null,
            "_model_module": "@jupyter-widgets/controls",
            "layout": "IPY_MODEL_48a8cf4d2bf142a4af05daa1ab2be051"
          }
        },
        "24dc2486b0e643278ce09860d283a2d8": {
          "model_module": "@jupyter-widgets/controls",
          "model_name": "ProgressStyleModel",
          "state": {
            "_view_name": "StyleView",
            "_model_name": "ProgressStyleModel",
            "description_width": "initial",
            "_view_module": "@jupyter-widgets/base",
            "_model_module_version": "1.5.0",
            "_view_count": null,
            "_view_module_version": "1.2.0",
            "bar_color": null,
            "_model_module": "@jupyter-widgets/controls"
          }
        },
        "cb3cb2afbe84497da567988a3e8df0db": {
          "model_module": "@jupyter-widgets/base",
          "model_name": "LayoutModel",
          "state": {
            "_view_name": "LayoutView",
            "grid_template_rows": null,
            "right": null,
            "justify_content": null,
            "_view_module": "@jupyter-widgets/base",
            "overflow": null,
            "_model_module_version": "1.2.0",
            "_view_count": null,
            "flex_flow": null,
            "width": null,
            "min_width": null,
            "border": null,
            "align_items": null,
            "bottom": null,
            "_model_module": "@jupyter-widgets/base",
            "top": null,
            "grid_column": null,
            "overflow_y": null,
            "overflow_x": null,
            "grid_auto_flow": null,
            "grid_area": null,
            "grid_template_columns": null,
            "flex": null,
            "_model_name": "LayoutModel",
            "justify_items": null,
            "grid_row": null,
            "max_height": null,
            "align_content": null,
            "visibility": null,
            "align_self": null,
            "height": null,
            "min_height": null,
            "padding": null,
            "grid_auto_rows": null,
            "grid_gap": null,
            "max_width": null,
            "order": null,
            "_view_module_version": "1.2.0",
            "grid_template_areas": null,
            "object_position": null,
            "object_fit": null,
            "grid_auto_columns": null,
            "margin": null,
            "display": null,
            "left": null
          }
        },
        "c3625786a73b4fe28e654ad814d1f20f": {
          "model_module": "@jupyter-widgets/controls",
          "model_name": "DescriptionStyleModel",
          "state": {
            "_view_name": "StyleView",
            "_model_name": "DescriptionStyleModel",
            "description_width": "",
            "_view_module": "@jupyter-widgets/base",
            "_model_module_version": "1.5.0",
            "_view_count": null,
            "_view_module_version": "1.2.0",
            "_model_module": "@jupyter-widgets/controls"
          }
        },
        "48a8cf4d2bf142a4af05daa1ab2be051": {
          "model_module": "@jupyter-widgets/base",
          "model_name": "LayoutModel",
          "state": {
            "_view_name": "LayoutView",
            "grid_template_rows": null,
            "right": null,
            "justify_content": null,
            "_view_module": "@jupyter-widgets/base",
            "overflow": null,
            "_model_module_version": "1.2.0",
            "_view_count": null,
            "flex_flow": null,
            "width": null,
            "min_width": null,
            "border": null,
            "align_items": null,
            "bottom": null,
            "_model_module": "@jupyter-widgets/base",
            "top": null,
            "grid_column": null,
            "overflow_y": null,
            "overflow_x": null,
            "grid_auto_flow": null,
            "grid_area": null,
            "grid_template_columns": null,
            "flex": null,
            "_model_name": "LayoutModel",
            "justify_items": null,
            "grid_row": null,
            "max_height": null,
            "align_content": null,
            "visibility": null,
            "align_self": null,
            "height": null,
            "min_height": null,
            "padding": null,
            "grid_auto_rows": null,
            "grid_gap": null,
            "max_width": null,
            "order": null,
            "_view_module_version": "1.2.0",
            "grid_template_areas": null,
            "object_position": null,
            "object_fit": null,
            "grid_auto_columns": null,
            "margin": null,
            "display": null,
            "left": null
          }
        },
        "59cd38e1ec654f9db3b495367b83407e": {
          "model_module": "@jupyter-widgets/controls",
          "model_name": "HBoxModel",
          "state": {
            "_view_name": "HBoxView",
            "_dom_classes": [],
            "_model_name": "HBoxModel",
            "_view_module": "@jupyter-widgets/controls",
            "_model_module_version": "1.5.0",
            "_view_count": null,
            "_view_module_version": "1.5.0",
            "box_style": "",
            "layout": "IPY_MODEL_2d78c506e45943eda1d807efa2d388f8",
            "_model_module": "@jupyter-widgets/controls",
            "children": [
              "IPY_MODEL_c65c4b3ee1314560badb6f0aa39b840b",
              "IPY_MODEL_6e987dd05630408294eedb8a3e8cee2c"
            ]
          }
        },
        "2d78c506e45943eda1d807efa2d388f8": {
          "model_module": "@jupyter-widgets/base",
          "model_name": "LayoutModel",
          "state": {
            "_view_name": "LayoutView",
            "grid_template_rows": null,
            "right": null,
            "justify_content": null,
            "_view_module": "@jupyter-widgets/base",
            "overflow": null,
            "_model_module_version": "1.2.0",
            "_view_count": null,
            "flex_flow": null,
            "width": null,
            "min_width": null,
            "border": null,
            "align_items": null,
            "bottom": null,
            "_model_module": "@jupyter-widgets/base",
            "top": null,
            "grid_column": null,
            "overflow_y": null,
            "overflow_x": null,
            "grid_auto_flow": null,
            "grid_area": null,
            "grid_template_columns": null,
            "flex": null,
            "_model_name": "LayoutModel",
            "justify_items": null,
            "grid_row": null,
            "max_height": null,
            "align_content": null,
            "visibility": null,
            "align_self": null,
            "height": null,
            "min_height": null,
            "padding": null,
            "grid_auto_rows": null,
            "grid_gap": null,
            "max_width": null,
            "order": null,
            "_view_module_version": "1.2.0",
            "grid_template_areas": null,
            "object_position": null,
            "object_fit": null,
            "grid_auto_columns": null,
            "margin": null,
            "display": null,
            "left": null
          }
        },
        "c65c4b3ee1314560badb6f0aa39b840b": {
          "model_module": "@jupyter-widgets/controls",
          "model_name": "FloatProgressModel",
          "state": {
            "_view_name": "ProgressView",
            "style": "IPY_MODEL_34d28cd2ca294580bd3105b0c7e7d166",
            "_dom_classes": [],
            "description": "100%",
            "_model_name": "FloatProgressModel",
            "bar_style": "success",
            "max": 31,
            "_view_module": "@jupyter-widgets/controls",
            "_model_module_version": "1.5.0",
            "value": 31,
            "_view_count": null,
            "_view_module_version": "1.5.0",
            "orientation": "horizontal",
            "min": 0,
            "description_tooltip": null,
            "_model_module": "@jupyter-widgets/controls",
            "layout": "IPY_MODEL_882f592f007d4db19b1a21cc0d219cbf"
          }
        },
        "6e987dd05630408294eedb8a3e8cee2c": {
          "model_module": "@jupyter-widgets/controls",
          "model_name": "HTMLModel",
          "state": {
            "_view_name": "HTMLView",
            "style": "IPY_MODEL_0c4f85109c90414b96312bf9a62cdba0",
            "_dom_classes": [],
            "description": "",
            "_model_name": "HTMLModel",
            "placeholder": "​",
            "_view_module": "@jupyter-widgets/controls",
            "_model_module_version": "1.5.0",
            "value": " 31/31 [00:30&lt;00:00,  1.02it/s]",
            "_view_count": null,
            "_view_module_version": "1.5.0",
            "description_tooltip": null,
            "_model_module": "@jupyter-widgets/controls",
            "layout": "IPY_MODEL_eabdeb40f45143b69e51cd626fa60a5a"
          }
        },
        "34d28cd2ca294580bd3105b0c7e7d166": {
          "model_module": "@jupyter-widgets/controls",
          "model_name": "ProgressStyleModel",
          "state": {
            "_view_name": "StyleView",
            "_model_name": "ProgressStyleModel",
            "description_width": "initial",
            "_view_module": "@jupyter-widgets/base",
            "_model_module_version": "1.5.0",
            "_view_count": null,
            "_view_module_version": "1.2.0",
            "bar_color": null,
            "_model_module": "@jupyter-widgets/controls"
          }
        },
        "882f592f007d4db19b1a21cc0d219cbf": {
          "model_module": "@jupyter-widgets/base",
          "model_name": "LayoutModel",
          "state": {
            "_view_name": "LayoutView",
            "grid_template_rows": null,
            "right": null,
            "justify_content": null,
            "_view_module": "@jupyter-widgets/base",
            "overflow": null,
            "_model_module_version": "1.2.0",
            "_view_count": null,
            "flex_flow": null,
            "width": null,
            "min_width": null,
            "border": null,
            "align_items": null,
            "bottom": null,
            "_model_module": "@jupyter-widgets/base",
            "top": null,
            "grid_column": null,
            "overflow_y": null,
            "overflow_x": null,
            "grid_auto_flow": null,
            "grid_area": null,
            "grid_template_columns": null,
            "flex": null,
            "_model_name": "LayoutModel",
            "justify_items": null,
            "grid_row": null,
            "max_height": null,
            "align_content": null,
            "visibility": null,
            "align_self": null,
            "height": null,
            "min_height": null,
            "padding": null,
            "grid_auto_rows": null,
            "grid_gap": null,
            "max_width": null,
            "order": null,
            "_view_module_version": "1.2.0",
            "grid_template_areas": null,
            "object_position": null,
            "object_fit": null,
            "grid_auto_columns": null,
            "margin": null,
            "display": null,
            "left": null
          }
        },
        "0c4f85109c90414b96312bf9a62cdba0": {
          "model_module": "@jupyter-widgets/controls",
          "model_name": "DescriptionStyleModel",
          "state": {
            "_view_name": "StyleView",
            "_model_name": "DescriptionStyleModel",
            "description_width": "",
            "_view_module": "@jupyter-widgets/base",
            "_model_module_version": "1.5.0",
            "_view_count": null,
            "_view_module_version": "1.2.0",
            "_model_module": "@jupyter-widgets/controls"
          }
        },
        "eabdeb40f45143b69e51cd626fa60a5a": {
          "model_module": "@jupyter-widgets/base",
          "model_name": "LayoutModel",
          "state": {
            "_view_name": "LayoutView",
            "grid_template_rows": null,
            "right": null,
            "justify_content": null,
            "_view_module": "@jupyter-widgets/base",
            "overflow": null,
            "_model_module_version": "1.2.0",
            "_view_count": null,
            "flex_flow": null,
            "width": null,
            "min_width": null,
            "border": null,
            "align_items": null,
            "bottom": null,
            "_model_module": "@jupyter-widgets/base",
            "top": null,
            "grid_column": null,
            "overflow_y": null,
            "overflow_x": null,
            "grid_auto_flow": null,
            "grid_area": null,
            "grid_template_columns": null,
            "flex": null,
            "_model_name": "LayoutModel",
            "justify_items": null,
            "grid_row": null,
            "max_height": null,
            "align_content": null,
            "visibility": null,
            "align_self": null,
            "height": null,
            "min_height": null,
            "padding": null,
            "grid_auto_rows": null,
            "grid_gap": null,
            "max_width": null,
            "order": null,
            "_view_module_version": "1.2.0",
            "grid_template_areas": null,
            "object_position": null,
            "object_fit": null,
            "grid_auto_columns": null,
            "margin": null,
            "display": null,
            "left": null
          }
        },
        "709f550b388f4ea58d26b6c6141e0580": {
          "model_module": "@jupyter-widgets/controls",
          "model_name": "HBoxModel",
          "state": {
            "_view_name": "HBoxView",
            "_dom_classes": [],
            "_model_name": "HBoxModel",
            "_view_module": "@jupyter-widgets/controls",
            "_model_module_version": "1.5.0",
            "_view_count": null,
            "_view_module_version": "1.5.0",
            "box_style": "",
            "layout": "IPY_MODEL_80a76c7154e342a5b9c6a778626f46a0",
            "_model_module": "@jupyter-widgets/controls",
            "children": [
              "IPY_MODEL_d415804573fb42088516ff8a8103bdc6",
              "IPY_MODEL_3c687fc4b4024480a88cfe9ee41d4336"
            ]
          }
        },
        "80a76c7154e342a5b9c6a778626f46a0": {
          "model_module": "@jupyter-widgets/base",
          "model_name": "LayoutModel",
          "state": {
            "_view_name": "LayoutView",
            "grid_template_rows": null,
            "right": null,
            "justify_content": null,
            "_view_module": "@jupyter-widgets/base",
            "overflow": null,
            "_model_module_version": "1.2.0",
            "_view_count": null,
            "flex_flow": null,
            "width": null,
            "min_width": null,
            "border": null,
            "align_items": null,
            "bottom": null,
            "_model_module": "@jupyter-widgets/base",
            "top": null,
            "grid_column": null,
            "overflow_y": null,
            "overflow_x": null,
            "grid_auto_flow": null,
            "grid_area": null,
            "grid_template_columns": null,
            "flex": null,
            "_model_name": "LayoutModel",
            "justify_items": null,
            "grid_row": null,
            "max_height": null,
            "align_content": null,
            "visibility": null,
            "align_self": null,
            "height": null,
            "min_height": null,
            "padding": null,
            "grid_auto_rows": null,
            "grid_gap": null,
            "max_width": null,
            "order": null,
            "_view_module_version": "1.2.0",
            "grid_template_areas": null,
            "object_position": null,
            "object_fit": null,
            "grid_auto_columns": null,
            "margin": null,
            "display": null,
            "left": null
          }
        },
        "d415804573fb42088516ff8a8103bdc6": {
          "model_module": "@jupyter-widgets/controls",
          "model_name": "FloatProgressModel",
          "state": {
            "_view_name": "ProgressView",
            "style": "IPY_MODEL_3c0716446a014bc78d6626ddeffa8b9c",
            "_dom_classes": [],
            "description": "100%",
            "_model_name": "FloatProgressModel",
            "bar_style": "success",
            "max": 312,
            "_view_module": "@jupyter-widgets/controls",
            "_model_module_version": "1.5.0",
            "value": 312,
            "_view_count": null,
            "_view_module_version": "1.5.0",
            "orientation": "horizontal",
            "min": 0,
            "description_tooltip": null,
            "_model_module": "@jupyter-widgets/controls",
            "layout": "IPY_MODEL_80e7c7b0ee394cab9c7c3faa1138647d"
          }
        },
        "3c687fc4b4024480a88cfe9ee41d4336": {
          "model_module": "@jupyter-widgets/controls",
          "model_name": "HTMLModel",
          "state": {
            "_view_name": "HTMLView",
            "style": "IPY_MODEL_58a37daebed5492c923c3882dc49274b",
            "_dom_classes": [],
            "description": "",
            "_model_name": "HTMLModel",
            "placeholder": "​",
            "_view_module": "@jupyter-widgets/controls",
            "_model_module_version": "1.5.0",
            "value": " 312/312 [06:46&lt;00:00,  1.30s/it]",
            "_view_count": null,
            "_view_module_version": "1.5.0",
            "description_tooltip": null,
            "_model_module": "@jupyter-widgets/controls",
            "layout": "IPY_MODEL_a53efe3ba9964bb69f5c83fcfcb9c1a7"
          }
        },
        "3c0716446a014bc78d6626ddeffa8b9c": {
          "model_module": "@jupyter-widgets/controls",
          "model_name": "ProgressStyleModel",
          "state": {
            "_view_name": "StyleView",
            "_model_name": "ProgressStyleModel",
            "description_width": "initial",
            "_view_module": "@jupyter-widgets/base",
            "_model_module_version": "1.5.0",
            "_view_count": null,
            "_view_module_version": "1.2.0",
            "bar_color": null,
            "_model_module": "@jupyter-widgets/controls"
          }
        },
        "80e7c7b0ee394cab9c7c3faa1138647d": {
          "model_module": "@jupyter-widgets/base",
          "model_name": "LayoutModel",
          "state": {
            "_view_name": "LayoutView",
            "grid_template_rows": null,
            "right": null,
            "justify_content": null,
            "_view_module": "@jupyter-widgets/base",
            "overflow": null,
            "_model_module_version": "1.2.0",
            "_view_count": null,
            "flex_flow": null,
            "width": null,
            "min_width": null,
            "border": null,
            "align_items": null,
            "bottom": null,
            "_model_module": "@jupyter-widgets/base",
            "top": null,
            "grid_column": null,
            "overflow_y": null,
            "overflow_x": null,
            "grid_auto_flow": null,
            "grid_area": null,
            "grid_template_columns": null,
            "flex": null,
            "_model_name": "LayoutModel",
            "justify_items": null,
            "grid_row": null,
            "max_height": null,
            "align_content": null,
            "visibility": null,
            "align_self": null,
            "height": null,
            "min_height": null,
            "padding": null,
            "grid_auto_rows": null,
            "grid_gap": null,
            "max_width": null,
            "order": null,
            "_view_module_version": "1.2.0",
            "grid_template_areas": null,
            "object_position": null,
            "object_fit": null,
            "grid_auto_columns": null,
            "margin": null,
            "display": null,
            "left": null
          }
        },
        "58a37daebed5492c923c3882dc49274b": {
          "model_module": "@jupyter-widgets/controls",
          "model_name": "DescriptionStyleModel",
          "state": {
            "_view_name": "StyleView",
            "_model_name": "DescriptionStyleModel",
            "description_width": "",
            "_view_module": "@jupyter-widgets/base",
            "_model_module_version": "1.5.0",
            "_view_count": null,
            "_view_module_version": "1.2.0",
            "_model_module": "@jupyter-widgets/controls"
          }
        },
        "a53efe3ba9964bb69f5c83fcfcb9c1a7": {
          "model_module": "@jupyter-widgets/base",
          "model_name": "LayoutModel",
          "state": {
            "_view_name": "LayoutView",
            "grid_template_rows": null,
            "right": null,
            "justify_content": null,
            "_view_module": "@jupyter-widgets/base",
            "overflow": null,
            "_model_module_version": "1.2.0",
            "_view_count": null,
            "flex_flow": null,
            "width": null,
            "min_width": null,
            "border": null,
            "align_items": null,
            "bottom": null,
            "_model_module": "@jupyter-widgets/base",
            "top": null,
            "grid_column": null,
            "overflow_y": null,
            "overflow_x": null,
            "grid_auto_flow": null,
            "grid_area": null,
            "grid_template_columns": null,
            "flex": null,
            "_model_name": "LayoutModel",
            "justify_items": null,
            "grid_row": null,
            "max_height": null,
            "align_content": null,
            "visibility": null,
            "align_self": null,
            "height": null,
            "min_height": null,
            "padding": null,
            "grid_auto_rows": null,
            "grid_gap": null,
            "max_width": null,
            "order": null,
            "_view_module_version": "1.2.0",
            "grid_template_areas": null,
            "object_position": null,
            "object_fit": null,
            "grid_auto_columns": null,
            "margin": null,
            "display": null,
            "left": null
          }
        },
        "d61275e3056d4ff1936e45ea76601ecd": {
          "model_module": "@jupyter-widgets/controls",
          "model_name": "HBoxModel",
          "state": {
            "_view_name": "HBoxView",
            "_dom_classes": [],
            "_model_name": "HBoxModel",
            "_view_module": "@jupyter-widgets/controls",
            "_model_module_version": "1.5.0",
            "_view_count": null,
            "_view_module_version": "1.5.0",
            "box_style": "",
            "layout": "IPY_MODEL_530ff503ef9c491a84798c26c1597d3e",
            "_model_module": "@jupyter-widgets/controls",
            "children": [
              "IPY_MODEL_017b766af3a54e59a04b76280aa149df",
              "IPY_MODEL_d91983bf3e564f35abac08a859fda936"
            ]
          }
        },
        "530ff503ef9c491a84798c26c1597d3e": {
          "model_module": "@jupyter-widgets/base",
          "model_name": "LayoutModel",
          "state": {
            "_view_name": "LayoutView",
            "grid_template_rows": null,
            "right": null,
            "justify_content": null,
            "_view_module": "@jupyter-widgets/base",
            "overflow": null,
            "_model_module_version": "1.2.0",
            "_view_count": null,
            "flex_flow": null,
            "width": null,
            "min_width": null,
            "border": null,
            "align_items": null,
            "bottom": null,
            "_model_module": "@jupyter-widgets/base",
            "top": null,
            "grid_column": null,
            "overflow_y": null,
            "overflow_x": null,
            "grid_auto_flow": null,
            "grid_area": null,
            "grid_template_columns": null,
            "flex": null,
            "_model_name": "LayoutModel",
            "justify_items": null,
            "grid_row": null,
            "max_height": null,
            "align_content": null,
            "visibility": null,
            "align_self": null,
            "height": null,
            "min_height": null,
            "padding": null,
            "grid_auto_rows": null,
            "grid_gap": null,
            "max_width": null,
            "order": null,
            "_view_module_version": "1.2.0",
            "grid_template_areas": null,
            "object_position": null,
            "object_fit": null,
            "grid_auto_columns": null,
            "margin": null,
            "display": null,
            "left": null
          }
        },
        "017b766af3a54e59a04b76280aa149df": {
          "model_module": "@jupyter-widgets/controls",
          "model_name": "FloatProgressModel",
          "state": {
            "_view_name": "ProgressView",
            "style": "IPY_MODEL_b41ec2cc5aea460197ef4ebb5ab3e9ea",
            "_dom_classes": [],
            "description": "100%",
            "_model_name": "FloatProgressModel",
            "bar_style": "success",
            "max": 31,
            "_view_module": "@jupyter-widgets/controls",
            "_model_module_version": "1.5.0",
            "value": 31,
            "_view_count": null,
            "_view_module_version": "1.5.0",
            "orientation": "horizontal",
            "min": 0,
            "description_tooltip": null,
            "_model_module": "@jupyter-widgets/controls",
            "layout": "IPY_MODEL_23eac153787d43e48e9284bd7a33ad84"
          }
        },
        "d91983bf3e564f35abac08a859fda936": {
          "model_module": "@jupyter-widgets/controls",
          "model_name": "HTMLModel",
          "state": {
            "_view_name": "HTMLView",
            "style": "IPY_MODEL_2a73f00626d1484395d65f2624b1ee59",
            "_dom_classes": [],
            "description": "",
            "_model_name": "HTMLModel",
            "placeholder": "​",
            "_view_module": "@jupyter-widgets/controls",
            "_model_module_version": "1.5.0",
            "value": " 31/31 [04:07&lt;00:00,  7.99s/it]",
            "_view_count": null,
            "_view_module_version": "1.5.0",
            "description_tooltip": null,
            "_model_module": "@jupyter-widgets/controls",
            "layout": "IPY_MODEL_0959b12bacd34b4d8d4cb6372692adab"
          }
        },
        "b41ec2cc5aea460197ef4ebb5ab3e9ea": {
          "model_module": "@jupyter-widgets/controls",
          "model_name": "ProgressStyleModel",
          "state": {
            "_view_name": "StyleView",
            "_model_name": "ProgressStyleModel",
            "description_width": "initial",
            "_view_module": "@jupyter-widgets/base",
            "_model_module_version": "1.5.0",
            "_view_count": null,
            "_view_module_version": "1.2.0",
            "bar_color": null,
            "_model_module": "@jupyter-widgets/controls"
          }
        },
        "23eac153787d43e48e9284bd7a33ad84": {
          "model_module": "@jupyter-widgets/base",
          "model_name": "LayoutModel",
          "state": {
            "_view_name": "LayoutView",
            "grid_template_rows": null,
            "right": null,
            "justify_content": null,
            "_view_module": "@jupyter-widgets/base",
            "overflow": null,
            "_model_module_version": "1.2.0",
            "_view_count": null,
            "flex_flow": null,
            "width": null,
            "min_width": null,
            "border": null,
            "align_items": null,
            "bottom": null,
            "_model_module": "@jupyter-widgets/base",
            "top": null,
            "grid_column": null,
            "overflow_y": null,
            "overflow_x": null,
            "grid_auto_flow": null,
            "grid_area": null,
            "grid_template_columns": null,
            "flex": null,
            "_model_name": "LayoutModel",
            "justify_items": null,
            "grid_row": null,
            "max_height": null,
            "align_content": null,
            "visibility": null,
            "align_self": null,
            "height": null,
            "min_height": null,
            "padding": null,
            "grid_auto_rows": null,
            "grid_gap": null,
            "max_width": null,
            "order": null,
            "_view_module_version": "1.2.0",
            "grid_template_areas": null,
            "object_position": null,
            "object_fit": null,
            "grid_auto_columns": null,
            "margin": null,
            "display": null,
            "left": null
          }
        },
        "2a73f00626d1484395d65f2624b1ee59": {
          "model_module": "@jupyter-widgets/controls",
          "model_name": "DescriptionStyleModel",
          "state": {
            "_view_name": "StyleView",
            "_model_name": "DescriptionStyleModel",
            "description_width": "",
            "_view_module": "@jupyter-widgets/base",
            "_model_module_version": "1.5.0",
            "_view_count": null,
            "_view_module_version": "1.2.0",
            "_model_module": "@jupyter-widgets/controls"
          }
        },
        "0959b12bacd34b4d8d4cb6372692adab": {
          "model_module": "@jupyter-widgets/base",
          "model_name": "LayoutModel",
          "state": {
            "_view_name": "LayoutView",
            "grid_template_rows": null,
            "right": null,
            "justify_content": null,
            "_view_module": "@jupyter-widgets/base",
            "overflow": null,
            "_model_module_version": "1.2.0",
            "_view_count": null,
            "flex_flow": null,
            "width": null,
            "min_width": null,
            "border": null,
            "align_items": null,
            "bottom": null,
            "_model_module": "@jupyter-widgets/base",
            "top": null,
            "grid_column": null,
            "overflow_y": null,
            "overflow_x": null,
            "grid_auto_flow": null,
            "grid_area": null,
            "grid_template_columns": null,
            "flex": null,
            "_model_name": "LayoutModel",
            "justify_items": null,
            "grid_row": null,
            "max_height": null,
            "align_content": null,
            "visibility": null,
            "align_self": null,
            "height": null,
            "min_height": null,
            "padding": null,
            "grid_auto_rows": null,
            "grid_gap": null,
            "max_width": null,
            "order": null,
            "_view_module_version": "1.2.0",
            "grid_template_areas": null,
            "object_position": null,
            "object_fit": null,
            "grid_auto_columns": null,
            "margin": null,
            "display": null,
            "left": null
          }
        }
      }
    },
    "accelerator": "GPU"
  },
  "cells": [
    {
      "cell_type": "markdown",
      "metadata": {
        "id": "obLpwjWQ3mD7"
      },
      "source": [
        "# Get Data"
      ]
    },
    {
      "cell_type": "code",
      "metadata": {
        "id": "drdsVVhwL2pb",
        "colab": {
          "base_uri": "https://localhost:8080/"
        },
        "outputId": "48c337d8-3f0d-4267-cddd-2c4c05ed6350"
      },
      "source": [
        "import os\n",
        "\n",
        "data_dir = \"./parsed_chat_data.csv\"\n",
        "\n",
        "if not os.path.exists(data_dir):\n",
        "  # !wget https://raw.githubusercontent.com/stran123/6.864-final-project/main/data/mini_parsed_data.csv -O ./mini_data.csv\n",
        "  !wget https://raw.githubusercontent.com/stran123/6.864-final-project/main/data/parsed_chat_data.zip -O ./parsed_chat_data.zip\n",
        "  !unzip parsed_chat_data.zip -d ."
      ],
      "execution_count": 1,
      "outputs": [
        {
          "output_type": "stream",
          "text": [
            "--2021-05-06 07:50:18--  https://raw.githubusercontent.com/stran123/6.864-final-project/main/data/parsed_chat_data.zip\n",
            "Resolving raw.githubusercontent.com (raw.githubusercontent.com)... 185.199.108.133, 185.199.109.133, 185.199.110.133, ...\n",
            "Connecting to raw.githubusercontent.com (raw.githubusercontent.com)|185.199.108.133|:443... connected.\n",
            "HTTP request sent, awaiting response... 200 OK\n",
            "Length: 10794217 (10M) [application/zip]\n",
            "Saving to: ‘./parsed_chat_data.zip’\n",
            "\n",
            "./parsed_chat_data. 100%[===================>]  10.29M  53.3MB/s    in 0.2s    \n",
            "\n",
            "2021-05-06 07:50:19 (53.3 MB/s) - ‘./parsed_chat_data.zip’ saved [10794217/10794217]\n",
            "\n",
            "Archive:  parsed_chat_data.zip\n",
            "  inflating: ./parsed_chat_data.csv  \n",
            "  inflating: ./__MACOSX/._parsed_chat_data.csv  \n"
          ],
          "name": "stdout"
        }
      ]
    },
    {
      "cell_type": "markdown",
      "metadata": {
        "id": "iIYu4v0i3qjX"
      },
      "source": [
        "# Read Data"
      ]
    },
    {
      "cell_type": "code",
      "metadata": {
        "id": "Nzq0URsP5fxp"
      },
      "source": [
        "import pandas as pd\n",
        "import spacy\n",
        "from tqdm.notebook import tqdm\n",
        "\n",
        "df = pd.read_csv(data_dir)\n",
        "df = df[['conversation_id','message','parsed_msg']][:]"
      ],
      "execution_count": 2,
      "outputs": []
    },
    {
      "cell_type": "markdown",
      "metadata": {
        "id": "f1Quz4lE36lx"
      },
      "source": [
        "# Add START and PAD tokens. Split data into train/val"
      ]
    },
    {
      "cell_type": "code",
      "metadata": {
        "id": "P61QJXHlvF8v"
      },
      "source": [
        "START=['[start]']\n",
        "PAD=['[pad]']\n",
        "\n",
        "longest_msg = max(df['parsed_msg'], key=lambda x: len(str(x).strip().split(' '))).split(' ')\n",
        "num_convos = max(df['conversation_id'], key=lambda x: int(x))\n",
        "\n",
        "train_data = []\n",
        "valid_data = []\n",
        "vocab = {START[0], PAD[0]}\n",
        "prev_conv_id = 0\n",
        "training_over = False\n",
        "training_split = 0.8\n",
        "\n",
        "for conv_id, msg, parsed_msg in df.values:\n",
        "  if conv_id > num_convos*0.8:\n",
        "    training_over = True\n",
        "\n",
        "  if prev_conv_id != conv_id:\n",
        "    if not training_over:\n",
        "      train_data.append(START+PAD*(len(longest_msg)-1))\n",
        "    else:\n",
        "      valid_data.append(START+PAD*(len(longest_msg)-1))\n",
        "    prev_conv_id = conv_id\n",
        "\n",
        "  parsed_msg_split = str(parsed_msg).strip().lower().split(' ')\n",
        "  vocab |= set(parsed_msg_split)\n",
        "\n",
        "  if not training_over:\n",
        "    train_data.append(str(parsed_msg).strip().split(' ')+PAD*(len(longest_msg)-len(parsed_msg_split)))\n",
        "  else:\n",
        "    valid_data.append(str(parsed_msg).strip().split(' ')+PAD*(len(longest_msg)-len(parsed_msg_split)))"
      ],
      "execution_count": 3,
      "outputs": []
    },
    {
      "cell_type": "code",
      "metadata": {
        "id": "7V8VMWYs5lIn"
      },
      "source": [
        "vocab = list(vocab)\n",
        "vocab_oh = {w:i for i,w in enumerate(vocab)}\n",
        "train_data_encoded = []\n",
        "valid_data_encoded = []\n",
        "\n",
        "for msg in train_data:\n",
        "  msg_vectorized = []\n",
        "  for word in msg:\n",
        "    msg_vectorized.append(vocab_oh[word.lower()])\n",
        "  train_data_encoded.append(msg_vectorized)\n",
        "\n",
        "for msg in valid_data:\n",
        "  msg_vectorized = []\n",
        "  for word in msg:\n",
        "    msg_vectorized.append(vocab_oh[word.lower()])\n",
        "  valid_data_encoded.append(msg_vectorized)"
      ],
      "execution_count": 4,
      "outputs": []
    },
    {
      "cell_type": "markdown",
      "metadata": {
        "id": "koJNAOdO30Kl"
      },
      "source": [
        "# Model"
      ]
    },
    {
      "cell_type": "code",
      "metadata": {
        "id": "7kC0GRQfbW0F"
      },
      "source": [
        "import torch\n",
        "import torch.nn as nn\n",
        "import torch.nn.functional as F\n",
        "class Embedder(nn.Module):\n",
        "  def __init__(self, num_words, num_layers, hidden_size, dropout=0):\n",
        "    super(Embedder, self).__init__()\n",
        "\n",
        "    self.embedding = nn.Embedding(num_words, hidden_size)\n",
        "\n",
        "    self.lstm = nn.LSTM(input_size=hidden_size,\n",
        "                        hidden_size=hidden_size,\n",
        "                        num_layers=num_layers,\n",
        "                        batch_first=True,\n",
        "                        dropout=dropout,\n",
        "                        bidirectional=True)\n",
        "  \n",
        "  def forward(self, x):\n",
        "    x = self.embedding(x)\n",
        "    outputs, hidden = self.lstm(x)\n",
        "    return outputs"
      ],
      "execution_count": 5,
      "outputs": []
    },
    {
      "cell_type": "code",
      "metadata": {
        "id": "uCCserB11q2k"
      },
      "source": [
        "class Predictor(nn.Module):\n",
        "    \n",
        "  def __init__(self, num_words, num_layers, hidden_size, dropout=0):\n",
        "    super(Predictor, self).__init__()\n",
        "    self.embedder = Embedder(num_words, num_layers, hidden_size)\n",
        "    self.hidden_size = hidden_size\n",
        "    self.dropout = nn.Dropout(dropout)\n",
        "    self.lstm = nn.LSTM(input_size=2*hidden_size,\n",
        "                        hidden_size=hidden_size,\n",
        "                        num_layers=num_layers,\n",
        "                        batch_first=True,\n",
        "                        dropout=dropout,\n",
        "                        bidirectional=True)\n",
        "    self.proj = nn.Linear(2*hidden_size, num_words, bias=True)\n",
        "  \n",
        "  def forward(self, x):\n",
        "    word_embeddings = self.embedder(x)\n",
        "    word_embeddings = self.dropout(word_embeddings)\n",
        "    output, (_, _) = self.lstm(word_embeddings)\n",
        "    decoded_output = self.proj(output) # [batch_size, max_len, vocab_size]\n",
        "    # return decoded_output\n",
        "    return F.log_softmax(decoded_output, dim=2) # [batch_size, max_len, vocab_size]"
      ],
      "execution_count": 6,
      "outputs": []
    },
    {
      "cell_type": "markdown",
      "metadata": {
        "id": "mtprsU_y4qof"
      },
      "source": [
        "# Inputs"
      ]
    },
    {
      "cell_type": "code",
      "metadata": {
        "id": "Cg20jUUIye04"
      },
      "source": [
        "model = Predictor(len(vocab), 1, 1024)\n",
        "inputt = torch.tensor(train_data_encoded[1:3])\n",
        "y = model(inputt)\n",
        "y = torch.argmax(y, dim=2)"
      ],
      "execution_count": 7,
      "outputs": []
    },
    {
      "cell_type": "code",
      "metadata": {
        "colab": {
          "base_uri": "https://localhost:8080/"
        },
        "id": "F3cND9uXC-4p",
        "outputId": "21e73678-2836-41db-edee-d1ff463628eb"
      },
      "source": [
        "print(y)\n",
        "print(y.shape)\n",
        "for idx,inp,output in zip(range(len(inputt)), y, inputt):\n",
        "  print(idx)\n",
        "  print(\" \".join([vocab[idx] for idx in output]))\n",
        "  print(\" \".join([vocab[idx] for idx in inp]))\n",
        "  "
      ],
      "execution_count": 8,
      "outputs": [
        {
          "output_type": "stream",
          "text": [
            "tensor([[ 6942,  5305, 21644, 26783, 26783, 36559, 15148, 12115, 14852, 13403,\n",
            "          2607,  2607,  2607,  2607,  2607,  2607,  2607,  2607,  2607,  2607,\n",
            "          2607,  2607,  2607,  2607,  2607,  2607,  2607,  2607,  2607,  2607,\n",
            "          2607,  2607,  2607,  2607,  2607,  2607,  2607,  2607,  2607,  2607,\n",
            "          2607,  2607,  2607,  2607,  2607,  2607,  2607,  2607,  2607,  2607,\n",
            "          2607,  2607,  2607,  2607,  2607,  2607,  2607,  2607,  2607,  2607,\n",
            "          2607,  2607,  2607,  2607,  2607,  2607,  2607,  2607,  2607,  2607,\n",
            "          2607,  2607,  2607,  2607,  2607,  2607,  2607,  2607,  2607,  2607,\n",
            "          2607,  2607,  2607,  2607,  2607,  2607,  2607,  2607,  2607,  2607,\n",
            "          2607,  2607,  2607,  2607,  2607,  2607,  2607,  2607,  2607,  2607,\n",
            "          2607,  2607,  2607,  2607,  2607,  2607,  2607,  2607,  2607,  2607,\n",
            "          2607,  2607,  2607,  2607,  2607,  2607,  2607,  2607,  2607,  2607,\n",
            "          2607,  2607,  2607,  2607,  2607,  2607,  2607,  2607,  2607,  2607,\n",
            "          2607,  2607,  2607,  2607,  2607,  2607,  2607,  2607,  2607,  2607,\n",
            "          2607,  2607,  2607,  2607,  2607,  2607,  2607,  2607,  2607,  2607,\n",
            "          2607,  2607,  2607,  2607],\n",
            "        [ 9206,  9206,  9206, 37392, 37392,  4325, 22999, 22999, 12610, 22999,\n",
            "         32035, 17611, 10043,  7479, 19192, 33043, 17066, 31835,   545,   545,\n",
            "           545,  2607,  2607,  2607,  2607,  2607,  2607,  2607,  2607,  2607,\n",
            "          2607,  2607,  2607,  2607,  2607,  2607,  2607,  2607,  2607,  2607,\n",
            "          2607,  2607,  2607,  2607,  2607,  2607,  2607,  2607,  2607,  2607,\n",
            "          2607,  2607,  2607,  2607,  2607,  2607,  2607,  2607,  2607,  2607,\n",
            "          2607,  2607,  2607,  2607,  2607,  2607,  2607,  2607,  2607,  2607,\n",
            "          2607,  2607,  2607,  2607,  2607,  2607,  2607,  2607,  2607,  2607,\n",
            "          2607,  2607,  2607,  2607,  2607,  2607,  2607,  2607,  2607,  2607,\n",
            "          2607,  2607,  2607,  2607,  2607,  2607,  2607,  2607,  2607,  2607,\n",
            "          2607,  2607,  2607,  2607,  2607,  2607,  2607,  2607,  2607,  2607,\n",
            "          2607,  2607,  2607,  2607,  2607,  2607,  2607,  2607,  2607,  2607,\n",
            "          2607,  2607,  2607,  2607,  2607,  2607,  2607,  2607,  2607,  2607,\n",
            "          2607,  2607,  2607,  2607,  2607,  2607,  2607,  2607,  2607,  2607,\n",
            "          2607,  2607,  2607,  2607,  2607,  2607,  2607,  2607,  2607,  2607,\n",
            "          2607,  2607,  2607,  2607]])\n",
            "torch.Size([2, 154])\n",
            "0\n",
            "are you a fan of google or microsoft ? [pad] [pad] [pad] [pad] [pad] [pad] [pad] [pad] [pad] [pad] [pad] [pad] [pad] [pad] [pad] [pad] [pad] [pad] [pad] [pad] [pad] [pad] [pad] [pad] [pad] [pad] [pad] [pad] [pad] [pad] [pad] [pad] [pad] [pad] [pad] [pad] [pad] [pad] [pad] [pad] [pad] [pad] [pad] [pad] [pad] [pad] [pad] [pad] [pad] [pad] [pad] [pad] [pad] [pad] [pad] [pad] [pad] [pad] [pad] [pad] [pad] [pad] [pad] [pad] [pad] [pad] [pad] [pad] [pad] [pad] [pad] [pad] [pad] [pad] [pad] [pad] [pad] [pad] [pad] [pad] [pad] [pad] [pad] [pad] [pad] [pad] [pad] [pad] [pad] [pad] [pad] [pad] [pad] [pad] [pad] [pad] [pad] [pad] [pad] [pad] [pad] [pad] [pad] [pad] [pad] [pad] [pad] [pad] [pad] [pad] [pad] [pad] [pad] [pad] [pad] [pad] [pad] [pad] [pad] [pad] [pad] [pad] [pad] [pad] [pad] [pad] [pad] [pad] [pad] [pad] [pad] [pad] [pad] [pad] [pad] [pad] [pad] [pad] [pad] [pad] [pad] [pad] [pad] [pad] [pad]\n",
            "no chopping disfunctional 16.8 16.8 australian warhol playe joey offensive opponent opponent opponent opponent opponent opponent opponent opponent opponent opponent opponent opponent opponent opponent opponent opponent opponent opponent opponent opponent opponent opponent opponent opponent opponent opponent opponent opponent opponent opponent opponent opponent opponent opponent opponent opponent opponent opponent opponent opponent opponent opponent opponent opponent opponent opponent opponent opponent opponent opponent opponent opponent opponent opponent opponent opponent opponent opponent opponent opponent opponent opponent opponent opponent opponent opponent opponent opponent opponent opponent opponent opponent opponent opponent opponent opponent opponent opponent opponent opponent opponent opponent opponent opponent opponent opponent opponent opponent opponent opponent opponent opponent opponent opponent opponent opponent opponent opponent opponent opponent opponent opponent opponent opponent opponent opponent opponent opponent opponent opponent opponent opponent opponent opponent opponent opponent opponent opponent opponent opponent opponent opponent opponent opponent opponent opponent opponent opponent opponent opponent opponent opponent opponent opponent opponent opponent opponent opponent opponent opponent opponent opponent opponent opponent\n",
            "1\n",
            "both are excellent technology they are helpful in many ways . for the security purpose both are super . [pad] [pad] [pad] [pad] [pad] [pad] [pad] [pad] [pad] [pad] [pad] [pad] [pad] [pad] [pad] [pad] [pad] [pad] [pad] [pad] [pad] [pad] [pad] [pad] [pad] [pad] [pad] [pad] [pad] [pad] [pad] [pad] [pad] [pad] [pad] [pad] [pad] [pad] [pad] [pad] [pad] [pad] [pad] [pad] [pad] [pad] [pad] [pad] [pad] [pad] [pad] [pad] [pad] [pad] [pad] [pad] [pad] [pad] [pad] [pad] [pad] [pad] [pad] [pad] [pad] [pad] [pad] [pad] [pad] [pad] [pad] [pad] [pad] [pad] [pad] [pad] [pad] [pad] [pad] [pad] [pad] [pad] [pad] [pad] [pad] [pad] [pad] [pad] [pad] [pad] [pad] [pad] [pad] [pad] [pad] [pad] [pad] [pad] [pad] [pad] [pad] [pad] [pad] [pad] [pad] [pad] [pad] [pad] [pad] [pad] [pad] [pad] [pad] [pad] [pad] [pad] [pad] [pad] [pad] [pad] [pad] [pad] [pad] [pad] [pad] [pad] [pad] [pad] [pad] [pad] [pad] [pad] [pad] [pad] [pad]\n",
            "blimps blimps blimps chapelle chapelle adopts forward forward veterans forward greenland ems sheepdogs nie rattlers zuckerberg kidman babbling maps maps maps opponent opponent opponent opponent opponent opponent opponent opponent opponent opponent opponent opponent opponent opponent opponent opponent opponent opponent opponent opponent opponent opponent opponent opponent opponent opponent opponent opponent opponent opponent opponent opponent opponent opponent opponent opponent opponent opponent opponent opponent opponent opponent opponent opponent opponent opponent opponent opponent opponent opponent opponent opponent opponent opponent opponent opponent opponent opponent opponent opponent opponent opponent opponent opponent opponent opponent opponent opponent opponent opponent opponent opponent opponent opponent opponent opponent opponent opponent opponent opponent opponent opponent opponent opponent opponent opponent opponent opponent opponent opponent opponent opponent opponent opponent opponent opponent opponent opponent opponent opponent opponent opponent opponent opponent opponent opponent opponent opponent opponent opponent opponent opponent opponent opponent opponent opponent opponent opponent opponent opponent opponent opponent opponent opponent opponent opponent opponent opponent opponent opponent opponent opponent opponent\n"
          ],
          "name": "stdout"
        }
      ]
    },
    {
      "cell_type": "markdown",
      "metadata": {
        "id": "MSnw6GN7riZB"
      },
      "source": [
        "## Hyperparameters"
      ]
    },
    {
      "cell_type": "code",
      "metadata": {
        "id": "YfDyIshKrkp1"
      },
      "source": [
        "batch_size = 32\n",
        "learning_rate = 1e-4\n",
        "optimizer = torch.optim.Adam(model.parameters(), learning_rate)\n",
        "loss_fn = nn.NLLLoss(reduction=\"sum\", ignore_index=vocab_oh['[pad]'])\n",
        "dropout = 0.3\n",
        "epochs = 2\n",
        "hidden_size = 1024\n",
        "embedder_layers = 1"
      ],
      "execution_count": 10,
      "outputs": []
    },
    {
      "cell_type": "markdown",
      "metadata": {
        "id": "ehtb5s2Yrbgs"
      },
      "source": [
        "# Training"
      ]
    },
    {
      "cell_type": "code",
      "metadata": {
        "id": "aH0gJyf2q8Dk"
      },
      "source": [
        "import random\n",
        "from tqdm.notebook import tqdm\n",
        "random.seed(0)\n",
        "\n",
        "model = Predictor(len(vocab), embedder_layers, hidden_size, dropout)\n",
        "\n",
        "training_data_x = torch.tensor(train_data_encoded)\n",
        "validation_data_x = torch.tensor(valid_data_encoded)\n",
        "\n",
        "training_data_y = torch.cat((training_data_x[1:,:], training_data_x[0:1,:]), axis=0)\n",
        "validation_data_y = torch.cat((validation_data_x[1:,:], validation_data_x[0:1,:]), axis=0)\n",
        "\n",
        "training_data = list(zip(training_data_x, training_data_y))\n",
        "validation_data = list(zip(validation_data_x, validation_data_y))\n",
        "\n",
        "random.shuffle(training_data)\n",
        "random.shuffle(validation_data)\n",
        "\n",
        "training_data = training_data[:10000]\n",
        "validation_data = validation_data[:1000]"
      ],
      "execution_count": 11,
      "outputs": []
    },
    {
      "cell_type": "markdown",
      "metadata": {
        "id": "Av1f9WmFtPRM"
      },
      "source": [
        "## Training Model"
      ]
    },
    {
      "cell_type": "code",
      "metadata": {
        "colab": {
          "base_uri": "https://localhost:8080/",
          "height": 1000,
          "referenced_widgets": [
            "c3fecc2817e24038bb2b7908e74c9c07",
            "66f7b2dcf4944123a5a24e3408053cbe",
            "933d4688ade744edb712e5f012a9b36c",
            "2b966ac716fb4ee584e31262c7050607",
            "861c761ff638411bb84c60b03bc613ce",
            "8eab6efa756d4b098559f695d6ffbf26",
            "2ef1dd5990d942a889772d126da7013a",
            "50c035e0243b4fe68ba452ad5eadc012",
            "cea24cbf3c224bf08a1577b5c8be09a2",
            "62f33fb1564f429b86f122d902a5b255",
            "5d144f96490c4b1fa89807e461144573",
            "3822dfd11411428ea90689a56f6ab157",
            "24dc2486b0e643278ce09860d283a2d8",
            "cb3cb2afbe84497da567988a3e8df0db",
            "c3625786a73b4fe28e654ad814d1f20f",
            "48a8cf4d2bf142a4af05daa1ab2be051",
            "59cd38e1ec654f9db3b495367b83407e",
            "2d78c506e45943eda1d807efa2d388f8",
            "c65c4b3ee1314560badb6f0aa39b840b",
            "6e987dd05630408294eedb8a3e8cee2c",
            "34d28cd2ca294580bd3105b0c7e7d166",
            "882f592f007d4db19b1a21cc0d219cbf",
            "0c4f85109c90414b96312bf9a62cdba0",
            "eabdeb40f45143b69e51cd626fa60a5a",
            "709f550b388f4ea58d26b6c6141e0580",
            "80a76c7154e342a5b9c6a778626f46a0",
            "d415804573fb42088516ff8a8103bdc6",
            "3c687fc4b4024480a88cfe9ee41d4336",
            "3c0716446a014bc78d6626ddeffa8b9c",
            "80e7c7b0ee394cab9c7c3faa1138647d",
            "58a37daebed5492c923c3882dc49274b",
            "a53efe3ba9964bb69f5c83fcfcb9c1a7",
            "d61275e3056d4ff1936e45ea76601ecd",
            "530ff503ef9c491a84798c26c1597d3e",
            "017b766af3a54e59a04b76280aa149df",
            "d91983bf3e564f35abac08a859fda936",
            "b41ec2cc5aea460197ef4ebb5ab3e9ea",
            "23eac153787d43e48e9284bd7a33ad84",
            "2a73f00626d1484395d65f2624b1ee59",
            "0959b12bacd34b4d8d4cb6372692adab"
          ]
        },
        "id": "wa32dOwsP-jo",
        "outputId": "480571e8-bdd4-4d07-a30e-390b70190634"
      },
      "source": [
        "model = Predictor(len(vocab), embedder_layers, hidden_size, dropout)\n",
        "losses = []\n",
        "print_every = 10\n",
        "device = \"cuda\" if torch.cuda.is_available() else \"cpu\"\n",
        "torch.cuda.empty_cache()\n",
        "model.to(device)\n",
        "\n",
        "for epoch in tqdm(range(epochs)):\n",
        "  model.train()\n",
        "  for batch in tqdm(range(int(len(training_data)/batch_size))):\n",
        "    batch_data = training_data[batch*batch_size:(batch+1)*batch_size]\n",
        "    x, y = zip(*batch_data)\n",
        "    x, y = torch.cat(x, dim=0).reshape(batch_size, -1), torch.cat(y, dim=0).reshape(batch_size, -1)\n",
        "    y_pred = model(x.to(device))\n",
        "\n",
        "    loss = 0\n",
        "    for pred,label in zip(y_pred, y):\n",
        "      loss += loss_fn(pred, label.to(device))\n",
        "    if batch % print_every == 0:\n",
        "      print(f\"Train Loss: {loss.item()}\")\n",
        "    losses.append(loss)\n",
        "    loss.backward()\n",
        "    optimizer.step()\n",
        "    optimizer.zero_grad()\n",
        "  if epoch % 1 == 0: # evaluate model\n",
        "    model.eval()\n",
        "    loss = 0\n",
        "    with torch.no_grad():\n",
        "      for batch in tqdm(range(int(len(validation_data)/batch_size))):\n",
        "        batch_data = validation_data[batch*batch_size:(batch+1)*batch_size]\n",
        "        x, y = zip(*batch_data)\n",
        "        x, y = torch.cat(x, dim=0).reshape(batch_size, -1), torch.cat(y, dim=0).reshape(batch_size, -1)\n",
        "        y_pred = model(x.to(device))\n",
        "        y_pred = y_pred.swapaxes(1, 2)\n",
        "        # compare y_pred and y\n",
        "        loss += loss_fn(y_pred, y.to(device))\n",
        "    print(f\"Test Loss: {loss.item()}\")"
      ],
      "execution_count": 14,
      "outputs": [
        {
          "output_type": "stream",
          "text": [
            "/usr/local/lib/python3.7/dist-packages/torch/nn/modules/rnn.py:63: UserWarning: dropout option adds dropout after all but last recurrent layer, so non-zero dropout expects num_layers greater than 1, but got dropout=0.3 and num_layers=1\n",
            "  \"num_layers={}\".format(dropout, num_layers))\n"
          ],
          "name": "stderr"
        },
        {
          "output_type": "display_data",
          "data": {
            "application/vnd.jupyter.widget-view+json": {
              "model_id": "c3fecc2817e24038bb2b7908e74c9c07",
              "version_minor": 0,
              "version_major": 2
            },
            "text/plain": [
              "HBox(children=(FloatProgress(value=0.0, max=2.0), HTML(value='')))"
            ]
          },
          "metadata": {
            "tags": []
          }
        },
        {
          "output_type": "display_data",
          "data": {
            "application/vnd.jupyter.widget-view+json": {
              "model_id": "cea24cbf3c224bf08a1577b5c8be09a2",
              "version_minor": 0,
              "version_major": 2
            },
            "text/plain": [
              "HBox(children=(FloatProgress(value=0.0, max=312.0), HTML(value='')))"
            ]
          },
          "metadata": {
            "tags": []
          }
        },
        {
          "output_type": "stream",
          "text": [
            "Train Loss: 8424.3828125\n",
            "Train Loss: 9108.8056640625\n",
            "Train Loss: 7324.21240234375\n",
            "Train Loss: 8906.845703125\n",
            "Train Loss: 6661.60498046875\n",
            "Train Loss: 6354.533203125\n",
            "Train Loss: 8022.68408203125\n",
            "Train Loss: 7239.2568359375\n",
            "Train Loss: 7166.12451171875\n",
            "Train Loss: 9287.603515625\n",
            "Train Loss: 8033.9482421875\n",
            "Train Loss: 7420.87353515625\n",
            "Train Loss: 8107.447265625\n",
            "Train Loss: 6997.08984375\n",
            "Train Loss: 7451.6181640625\n",
            "Train Loss: 6745.44140625\n",
            "Train Loss: 7557.13818359375\n",
            "Train Loss: 7453.72802734375\n",
            "Train Loss: 8296.841796875\n",
            "Train Loss: 8751.10546875\n",
            "Train Loss: 7378.1796875\n",
            "Train Loss: 6745.92822265625\n",
            "Train Loss: 8867.2265625\n",
            "Train Loss: 7768.8486328125\n",
            "Train Loss: 6162.6630859375\n",
            "Train Loss: 9088.50390625\n",
            "Train Loss: 8370.5478515625\n",
            "Train Loss: 7356.6767578125\n",
            "Train Loss: 7061.38623046875\n",
            "Train Loss: 6458.49267578125\n",
            "Train Loss: 7178.72216796875\n",
            "Train Loss: 7452.25927734375\n",
            "\n"
          ],
          "name": "stdout"
        },
        {
          "output_type": "display_data",
          "data": {
            "application/vnd.jupyter.widget-view+json": {
              "model_id": "59cd38e1ec654f9db3b495367b83407e",
              "version_minor": 0,
              "version_major": 2
            },
            "text/plain": [
              "HBox(children=(FloatProgress(value=0.0, max=31.0), HTML(value='')))"
            ]
          },
          "metadata": {
            "tags": []
          }
        },
        {
          "output_type": "stream",
          "text": [
            "\n",
            "Test Loss: 239227.34375\n"
          ],
          "name": "stdout"
        },
        {
          "output_type": "display_data",
          "data": {
            "application/vnd.jupyter.widget-view+json": {
              "model_id": "709f550b388f4ea58d26b6c6141e0580",
              "version_minor": 0,
              "version_major": 2
            },
            "text/plain": [
              "HBox(children=(FloatProgress(value=0.0, max=312.0), HTML(value='')))"
            ]
          },
          "metadata": {
            "tags": []
          }
        },
        {
          "output_type": "stream",
          "text": [
            "Train Loss: 8423.9697265625\n",
            "Train Loss: 9108.310546875\n",
            "Train Loss: 7324.6943359375\n",
            "Train Loss: 8906.8828125\n",
            "Train Loss: 6661.97705078125\n",
            "Train Loss: 6354.0537109375\n",
            "Train Loss: 8023.4453125\n",
            "Train Loss: 7239.21337890625\n",
            "Train Loss: 7166.77294921875\n",
            "Train Loss: 9288.1904296875\n",
            "Train Loss: 8035.30126953125\n",
            "Train Loss: 7420.9775390625\n",
            "Train Loss: 8108.18212890625\n",
            "Train Loss: 6996.4462890625\n",
            "Train Loss: 7451.49658203125\n",
            "Train Loss: 6744.79638671875\n",
            "Train Loss: 7556.66015625\n",
            "Train Loss: 7453.4765625\n",
            "Train Loss: 8297.4091796875\n",
            "Train Loss: 8750.880859375\n",
            "Train Loss: 7378.1416015625\n",
            "Train Loss: 6745.4912109375\n",
            "Train Loss: 8867.056640625\n",
            "Train Loss: 7769.494140625\n",
            "Train Loss: 6162.408203125\n",
            "Train Loss: 9088.0859375\n",
            "Train Loss: 8370.525390625\n",
            "Train Loss: 7356.4658203125\n",
            "Train Loss: 7062.103515625\n",
            "Train Loss: 6458.92919921875\n",
            "Train Loss: 7178.8671875\n",
            "Train Loss: 7452.501953125\n",
            "\n"
          ],
          "name": "stdout"
        },
        {
          "output_type": "display_data",
          "data": {
            "application/vnd.jupyter.widget-view+json": {
              "model_id": "d61275e3056d4ff1936e45ea76601ecd",
              "version_minor": 0,
              "version_major": 2
            },
            "text/plain": [
              "HBox(children=(FloatProgress(value=0.0, max=31.0), HTML(value='')))"
            ]
          },
          "metadata": {
            "tags": []
          }
        },
        {
          "output_type": "stream",
          "text": [
            "\n",
            "Test Loss: 239227.34375\n",
            "\n"
          ],
          "name": "stdout"
        }
      ]
    },
    {
      "cell_type": "code",
      "metadata": {
        "colab": {
          "base_uri": "https://localhost:8080/",
          "height": 298
        },
        "id": "1UbqdOpZPlQ7",
        "outputId": "dd2066d4-a9ae-488b-86ca-0378ca57851f"
      },
      "source": [
        "import matplotlib.pyplot as plt\n",
        "plt.title(\"Loss: 10k training data\")\n",
        "plt.plot([_ for _ in range(len(losses))], losses)"
      ],
      "execution_count": 15,
      "outputs": [
        {
          "output_type": "execute_result",
          "data": {
            "text/plain": [
              "[<matplotlib.lines.Line2D at 0x7f19587514d0>]"
            ]
          },
          "metadata": {
            "tags": []
          },
          "execution_count": 15
        },
        {
          "output_type": "display_data",
          "data": {
            "image/png": "[encoded data removed]",
            "text/plain": [
              "<Figure size 432x288 with 1 Axes>"
            ]
          },
          "metadata": {
            "tags": [],
            "needs_background": "light"
          }
        }
      ]
    },
    {
      "cell_type": "code",
      "metadata": {
        "colab": {
          "base_uri": "https://localhost:8080/"
        },
        "id": "YpX-FoL-SsiR",
        "outputId": "2fee4836-3311-48f7-a4a9-553afed78824"
      },
      "source": [
        "import spacy\n",
        "import torch\n",
        "\n",
        "from collections import Counter\n",
        "\n",
        "tokenizer = spacy.load('en_core_web_sm')\n",
        "\n",
        "LONGEST_MSG_LENGTH = 50\n",
        "\n",
        "# x = input(\"Say something to the bot:\\n\")\n",
        "x = \"are you a fan of google or microsoft ?\"\n",
        "\n",
        "PAD = ['[pad]']\n",
        "tokenized_msg = tokenizer(x)\n",
        "parsed_msg = ' '.join([token.text for token in tokenized_msg])\n",
        "split_msg = parsed_msg.split(' ')\n",
        "\n",
        "if len(split_msg) < LONGEST_MSG_LENGTH:\n",
        "  padded_msg = split_msg + PAD*(LONGEST_MSG_LENGTH-len(split_msg))\n",
        "else:\n",
        "  raise ValueError(\"Message is too long!\")\n",
        "\n",
        "one_hotted_msg = torch.tensor(list(map(lambda word: vocab_oh[word], padded_msg))).unsqueeze(0)\n",
        "\n",
        "model_out = model(one_hotted_msg.to(device))\n",
        "y = torch.argmax(model_out, dim = 2)\n",
        "\n",
        "output_msg = ' '.join([vocab[i] for i in y[0,:]])\n",
        "print(output_msg)"
      ],
      "execution_count": 350,
      "outputs": [
        {
          "output_type": "stream",
          "text": [
            "dust nam proceed proceed stormy jacked autotune es theirselves theirselves behalf behalf behalf behalf behalf behalf behalf behalf behalf behalf behalf behalf behalf behalf behalf behalf behalf behalf behalf behalf behalf behalf behalf behalf behalf behalf behalf behalf behalf behalf behalf behalf behalf behalf behalf behalf behalf quad estimate estimate\n"
          ],
          "name": "stdout"
        }
      ]
    },
    {
      "cell_type": "code",
      "metadata": {
        "id": "DCx2_kPQSs7g"
      },
      "source": [
        ""
      ],
      "execution_count": null,
      "outputs": []
    }
  ]
}